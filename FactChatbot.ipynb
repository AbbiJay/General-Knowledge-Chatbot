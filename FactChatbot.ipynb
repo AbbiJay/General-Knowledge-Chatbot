{
  "nbformat": 4,
  "nbformat_minor": 0,
  "metadata": {
    "colab": {
      "provenance": []
    },
    "kernelspec": {
      "name": "python3",
      "display_name": "Python 3"
    },
    "language_info": {
      "name": "python"
    }
  },
  "cells": [
    {
      "cell_type": "markdown",
      "source": [
        "# **Project on Chatbot using TF-IDF and Cosine Similarity**"
      ],
      "metadata": {
        "id": "DiXJMN3mfsqZ"
      }
    },
    {
      "cell_type": "markdown",
      "source": [
        "## **FactBot: Interactive Chatbot for Sharing Interesting Facts**\n",
        "\n",
        "This project employs the **TF-IDF (Term Frequency-Inverse Document Frequency)** technique and **cosine similarity** to match the user's responses with a dataset of facts. By using TF-IDF, the chatbot can determine the relevance and importance of each word in the input. The cosine similarity measure helps in finding the most similar sentences or facts from the dataset.\n",
        "\n",
        "Additionally, the chatbot is designed to respond to common user queries. It can provide information about itself, handle expressions of gratitude, bid farewell, and engage in greetings. This makes the chatbot more interactive and capable of engaging in small talk with users, enhancing the overall user experience.\n",
        "\n",
        "### Subjects Familiar to the Factbot\n",
        "\n",
        "1. General Knowledge\n",
        "2. Science and Technology\n",
        "3. History and Politics\n",
        "4. Arts and Entertainment\n",
        "5. Sports and Recreation\n",
        "6. Health and Wellness\n",
        "7. Social and Environmental Issues"
      ],
      "metadata": {
        "id": "ccTGRFVHeJBJ"
      }
    },
    {
      "cell_type": "markdown",
      "source": [
        "## **Import and Setup**"
      ],
      "metadata": {
        "id": "iLCujv3Nm-me"
      }
    },
    {
      "cell_type": "code",
      "execution_count": null,
      "metadata": {
        "id": "gwUTjGE5mcyE"
      },
      "outputs": [],
      "source": [
        "import nltk\n",
        "import string\n",
        "import random\n",
        "from nltk.tokenize import word_tokenize, sent_tokenize\n",
        "from nltk.stem import WordNetLemmatizer"
      ]
    },
    {
      "cell_type": "code",
      "source": [
        "nltk.download('punkt')\n",
        "nltk.download('wordnet')\n",
        "nltk.download('omw-1.4')"
      ],
      "metadata": {
        "colab": {
          "base_uri": "https://localhost:8080/"
        },
        "id": "Bl-QmDVR82xv",
        "outputId": "d9f0b518-c197-402d-fb26-2653d2959ebc"
      },
      "execution_count": null,
      "outputs": [
        {
          "output_type": "stream",
          "name": "stderr",
          "text": [
            "[nltk_data] Downloading package punkt to /root/nltk_data...\n",
            "[nltk_data]   Package punkt is already up-to-date!\n",
            "[nltk_data] Downloading package wordnet to /root/nltk_data...\n",
            "[nltk_data]   Package wordnet is already up-to-date!\n",
            "[nltk_data] Downloading package omw-1.4 to /root/nltk_data...\n",
            "[nltk_data]   Package omw-1.4 is already up-to-date!\n"
          ]
        },
        {
          "output_type": "execute_result",
          "data": {
            "text/plain": [
              "True"
            ]
          },
          "metadata": {},
          "execution_count": 15
        }
      ]
    },
    {
      "cell_type": "markdown",
      "source": [
        "### **GKFacts Dataset**\n",
        "\n",
        "The GKFacts dataset is a collection of facts on General Knowledge topics. It serves as a valuable resource for those interested in gaining knowledge across various domains, including history, science, geography, arts, and more.\n",
        "\n",
        "### Dataset Description\n",
        "\n",
        "- Total Facts: ~1200\n",
        "- Topics Covered: - General Knowledge\n",
        "                  - Science and Technology\n",
        "                  - History and Politics\n",
        "                  - Arts and Entertainment\n",
        "                  - Sports and Recreation\n",
        "                  - Health and Wellness\n",
        "                  - Social and Environmental Issues\n",
        "\n",
        "### Usage\n",
        "\n",
        "The facts in the dataset can be incorporated into chatbot applications to provide users with interesting and informative responses.\n",
        "\n",
        "### Data Format\n",
        "\n",
        "The dataset is provided in a text file format, with each fact separated by a newline. The facts are written in a concise and informative manner, making them suitable for quick consumption.\n",
        "\n",
        "### Examples\n",
        "\n",
        "Here are a few examples of facts from the GKFacts dataset:\n",
        "\n",
        "1. Fact 1: The capital of China is Beijing.\n",
        "2. Fact 2: There are 118 known elements, out of which 94 occur naturally on Earth.\n",
        "3. Fact 3: \"The Starry Night\" by Vincent van Gogh is an iconic painting featuring swirling skies and a vibrant, expressive depiction of the night landscape.\n"
      ],
      "metadata": {
        "id": "XQMxjIrO8T2c"
      }
    },
    {
      "cell_type": "code",
      "source": [
        "f=open('/content/GKFacts.txt', 'r', errors = 'ignore')\n",
        "raw_doc = f.read()"
      ],
      "metadata": {
        "id": "u6Qy6fC_7wWf"
      },
      "execution_count": null,
      "outputs": []
    },
    {
      "cell_type": "markdown",
      "source": [
        "## **Performing Text Pre-processing Steps**\n",
        "\n",
        "To ensure effective processing and analysis of text data in the GKFacts dataset, the following pre-processing steps have been performed:\n",
        "\n",
        "### 1. Tokenization\n",
        "\n",
        "Tokenization is the process of breaking down text into individual tokens or words. In this dataset, tokenization has been applied to each fact, dividing them into separate units.\n",
        "\n",
        "### 2. Lemmatization\n",
        "\n",
        "Lemmatization is the process of reducing words to their base or root form, known as lemmas. It helps in normalizing different word forms. The Lemmatization technique used in this dataset ensures that words like \"running\" and \"ran\" are reduced to their base form, \"run\".\n",
        "\n",
        "### 3. Stemming\n",
        "\n",
        "Stemming is another technique used to reduce words to their root form by removing prefixes and suffixes. It aims to create word stems, but the resulting stems may not always be actual words. Stemming can help in reducing the dimensionality of the data. In this dataset, a stemming algorithm has been applied to transform words to their root form.\n",
        "\n",
        "These pre-processing steps improve the consistency and accuracy of the text data, making it easier for subsequent analysis and modeling tasks.\n",
        "\n",
        "\n"
      ],
      "metadata": {
        "id": "M_6eybsC-d4r"
      }
    },
    {
      "cell_type": "code",
      "source": [
        "# TOKENIZATION\n",
        "raw_doc = raw_doc.lower()  # Convert all text to lowercase\n",
        "sentence_tokens = sent_tokenize(raw_doc)  # Divides the content into sentences\n",
        "word_tokens = word_tokenize(raw_doc) # Divides the text into tokens(words)"
      ],
      "metadata": {
        "id": "043gADbj8dez"
      },
      "execution_count": null,
      "outputs": []
    },
    {
      "cell_type": "code",
      "source": [
        "# Lemmatization and Stemming\n",
        "lemmer = WordNetLemmatizer()\n",
        "def LemTokens(tokens):\n",
        "  return [lemmer.lemmatize(token) for token in tokens]\n",
        "\n",
        "remove_punc_dict = dict((ord(punct), None) for punct in string.punctuation)\n",
        "\n",
        "def LemNormalize(text):\n",
        "  return LemTokens(word_tokenize(text.lower().translate(remove_punc_dict)))"
      ],
      "metadata": {
        "id": "z0zUiTUM8z7K"
      },
      "execution_count": null,
      "outputs": []
    },
    {
      "cell_type": "markdown",
      "source": [
        "## **Personality Injection: Adding a Human Touch**"
      ],
      "metadata": {
        "id": "zD8Ig8ekrnvv"
      }
    },
    {
      "cell_type": "markdown",
      "source": [
        "### Default Prompts\n",
        "\n",
        "- Greeting: The chatbot can respond to common greetings like \"hi,\" \"hello,\" and \"hey\" with friendly responses.\n",
        "- Thanks: It recognizes expressions of gratitude like \"thank you\" and \"thanks\" and acknowledges them appropriately.\n",
        "- Goodbye: The chatbot understands various ways of ending the conversation and provides a farewell message.\n",
        "- Description: It can provide a brief explanation of what the GKFacts Chatbot is and how it functions.\n",
        "- Capabilities: The chatbot can explain its features and capabilities, such as sharing fascinating facts and answering questions.\n"
      ],
      "metadata": {
        "id": "8TxGMhSFAtdB"
      }
    },
    {
      "cell_type": "code",
      "source": [
        "greet_inputs =  [ \"hi\", \"hello\", \"hey\", \"yo\", \"sup\", \"what's up\", \"hey there\", \"wassup\", \"howdy\", \"hola\", \"hey dude\", \"what's poppin'\", \"g'day mate\", \"hey ya\", \"hey buddy\", \"hey fam\", \"hey homie\"]\n",
        "greet_responses = [\n",
        "    \"Hello, how can I assist you?\",    \"Hey there! How can I help?\",\n",
        "    \"Hi! What can I do for you?\",    \"Hey! How may I assist you today?\",\n",
        "    \"Hi, how can I be of service?\",    \"Hello! How can I assist you?\",\n",
        "    \"Hey, what can I do for you today?\",    \"Hi there! How may I help you?\",\n",
        "    \"Yo! What's up? How can I assist you?\",    \"Sup! How may I help you today?\",\n",
        "    \"What's up! How can I assist you?\",    \"Hey dude! How may I help you today?\",\n",
        "    \"Hey ya! What can I do for you?\",    \"Hey buddy! How may I assist you today?\",\n",
        "    \"Hey fam! How can I help you?\",    \"Hey homie! What can I do for you?\",\n",
        "    \"Hey there! How can I assist you today?\"]\n",
        "\n",
        "goodbye_inputs = [\"bye\", \"goodbye\", \"see you later\", \"take care\", \"farewell\", \"until next time\" ]\n",
        "goodbye_responses = [ \"Goodbye!\", \"Farewell!\", \"Have a great day!\", \"Take care!\", \"Until we meet again!\", \"Goodbye! Take care!\" ]\n",
        "\n",
        "thanks_inputs = [ \"thank you\", \"thanks a lot\", \"much appreciated\", \"thank you so much\", \"thanks for your help\"]\n",
        "\n",
        "thanks_responses = [ \"You're welcome!\", \"No problem!\", \"Glad I could help!\", \"You're welcome. Happy to assist!\",\n",
        "                    \"You're welcome! If you need further assistance, feel free to ask.\" ]\n",
        "\n",
        "description_inputs = [\"tell me about yourself\", \"who are you\"]\n",
        "description_responses = [\n",
        "    \"I am the Fact Bot, your friendly companion for interesting facts!\",\n",
        "    \"I'm an AI-powered Fact Bot designed to share fascinating facts with you.\",\n",
        "    \"Welcome to the Fact Bot! I'm here to provide you with intriguing facts and answer your questions.\"\n",
        "]\n",
        "\n",
        "capabilities_inputs = [\"what can you do\", \"tell me your capabilities\", \"what are you good at\", \"how do you work\"]\n",
        "capabilities_responses = [\n",
        "    \"I can share facts on a wide range of topics. Just ask me anything!\",\n",
        "    \"Ask me about animals, history, science, or any other subject you're curious about!\",\n",
        "    \"I'm knowledgeable in various fields and can provide facts to quench your thirst for knowledge.\",\n",
        "    \"I utilize TF-IDF and cosine similarity algorithms to analyze your input and find the most relevant facts to share with you.\",\n",
        "]"
      ],
      "metadata": {
        "id": "fcH_amm1MV4D"
      },
      "execution_count": null,
      "outputs": []
    },
    {
      "cell_type": "markdown",
      "source": [
        "### Prompt Response Function\n",
        "\n",
        "The response function in the code analyzes user input and generates an appropriate response based on the input. It compares the user's response with the input lists of if a match is found returns the corresponding response from the list.\n"
      ],
      "metadata": {
        "id": "ozzKteRlpnR3"
      }
    },
    {
      "cell_type": "code",
      "source": [
        "def get_response(user_input, input_list, response_list):\n",
        "  for i, input_item in enumerate(input_list):\n",
        "      if input_item in user_input:\n",
        "          return response_list[i]\n",
        "  return None"
      ],
      "metadata": {
        "id": "t-TS6ulJOE8S"
      },
      "execution_count": null,
      "outputs": []
    },
    {
      "cell_type": "markdown",
      "source": [
        "## Response Generation by the Bot\n",
        "\n",
        "The response function uses TF-IDF and cosine similarity to generate a suitable response for the chatbot. It tokenizes the user's input, calculates the TF-IDF matrix for the sentences, and computes the cosine similarity with the user's input. It selects the most similar sentence and returns it as the response, capitalized. If there is no significant similarity, the chatbot apologizes for not understanding."
      ],
      "metadata": {
        "id": "4AnPMSVxCVAx"
      }
    },
    {
      "cell_type": "code",
      "source": [
        "from sklearn.feature_extraction.text import TfidfVectorizer\n",
        "from sklearn.metrics.pairwise import cosine_similarity"
      ],
      "metadata": {
        "id": "PYxMXDW8CSlf"
      },
      "execution_count": null,
      "outputs": []
    },
    {
      "cell_type": "code",
      "source": [
        "def response (user_response):\n",
        "  robo1_response=''\n",
        "  TfidfVec = TfidfVectorizer(tokenizer = LemNormalize, stop_words = 'english')\n",
        "  tfidf = TfidfVec.fit_transform(sentence_tokens)\n",
        "  vals = cosine_similarity(tfidf[-1], tfidf)\n",
        "  idx = vals.argsort()[0][-2]\n",
        "  flat = vals.flatten()\n",
        "  flat.sort()\n",
        "  req_tfidf = flat[-2]\n",
        "  if(req_tfidf ==0):\n",
        "    robo1_response = robo1_response + \"I am sorry. I am unable to understand you.\"\n",
        "    return robo1_response\n",
        "  else:\n",
        "    robo1_response = robo1_response + sentence_tokens[idx]\n",
        "    return robo1_response.capitalize()"
      ],
      "metadata": {
        "id": "1FVA09b6C6NC"
      },
      "execution_count": null,
      "outputs": []
    },
    {
      "cell_type": "markdown",
      "source": [
        "### **Main Chatbot Flow**\n",
        "\n"
      ],
      "metadata": {
        "id": "SGGSyqsKFM5A"
      }
    },
    {
      "cell_type": "code",
      "source": [
        "flag=True\n",
        "print(\"Bot: Welcome to the Fact Bot! I'm here to provide you with interesting facts. Ask me anything, and I'll share a fascinating fact with you.\\nFor ending convo type bye\")\n",
        "while(flag==True):\n",
        "  user_response = input(\"User: \")\n",
        "  user_response = user_response.lower()\n",
        "  if(user_response not in goodbye_inputs):\n",
        "    if(user_response in thanks_inputs):\n",
        "      flag = False\n",
        "      print(\"Bot: \" + random.choice(thanks_responses))\n",
        "    else:\n",
        "      if(user_response in greet_inputs):\n",
        "        print(\"Bot: \" + get_response(user_response, greet_inputs, greet_responses))\n",
        "      elif any(input_item in user_response for input_item in description_inputs):\n",
        "        print(\"Bot: \" + get_response(user_response, description_inputs, description_responses))\n",
        "      elif any(input_item in user_response for input_item in capabilities_inputs):\n",
        "        print(\"Bot: \" + get_response(user_response, capabilities_inputs, capabilities_responses))\n",
        "      else:\n",
        "        sentence_tokens.append(user_response)\n",
        "        word_tokens = word_tokens + word_tokenize(user_response)\n",
        "        final_word=list(set(word_tokens))\n",
        "        print('Bot: ', end = '')\n",
        "        print(response(user_response))\n",
        "        sentence_tokens.remove(user_response)\n",
        "  else:\n",
        "    flag = False\n",
        "    print(\"Bot: \" + random.choice(goodbye_responses))\n"
      ],
      "metadata": {
        "colab": {
          "base_uri": "https://localhost:8080/"
        },
        "outputId": "c03d378b-3c43-467d-be3b-16c77d0b30d5",
        "id": "4gXD29WIRz94"
      },
      "execution_count": null,
      "outputs": [
        {
          "output_type": "stream",
          "name": "stdout",
          "text": [
            "Bot: Welcome to the Fact Bot! I'm here to provide you with interesting facts. Ask me anything, and I'll share a fascinating fact with you.\n",
            "For ending convo type bye\n",
            "User: Hey there\n",
            "Bot: Hi! What can I do for you?\n",
            "User: Who are you?\n",
            "Bot: I'm an AI-powered Fact Bot designed to share fascinating facts with you.\n",
            "User: Can you tell me a fact on the French Revolution?\n",
            "Bot: The french revolution took place from 1789 to 1799, leading to the overthrow of the monarchy and the rise of napoleon bonaparte.\n",
            "User: Explain the theory of relativity.\n",
            "Bot: The theory of general relativity, also by einstein, provides a framework for understanding gravity as the curvature of spacetime.\n",
            "User: Which is the largest country in the Middle east?\n",
            "Bot: Saudi arabia is the largest country in the middle east.\n",
            "User: Why is oxygen essential?\n",
            "Bot: Oxygen is essential for respiration and combustion, while nitrogen is a crucial component of proteins and nucleic acids.\n",
            "User: Who is Leo Tolstoy?\n",
            "Bot: Leo tolstoy, a russian literary giant, authored masterpieces like \"war and peace\" and \"anna karenina,\" examining themes of love, fate, and morality.\n",
            "User: Who was the Persian war between?\n",
            "Bot: The persian wars, fought between the persian empire and the city-states of greece in the 5th century bce, resulted in greek victories and the preservation of greek independence.\n",
            "User: Tell me a fact on music instruments.\n",
            "Bot: The flute is a woodwind instrument that produces sound when the player blows across a hole, and it is featured in classical, folk, and world music.\n",
            "User: What was Vincent Van Gogh's iconic painting?\n",
            "Bot: \"the starry night\" by vincent van gogh is an iconic painting featuring swirling skies and a vibrant, expressive depiction of the night landscape.\n",
            "User: Do you know a fact on the FIFA world cup?\n",
            "Bot: The fifa world cup is the biggest football tournament, held every four years, with teams from around the world competing for the title.\n",
            "User: What is Solitaire?\n",
            "Bot: Solitaire is a single-player card game that originated in the 18th century and has numerous variations.\n",
            "User: What does the Workers' rights movements advocate?\n",
            "Bot: Workers' rights movements advocate for fair labor practices, safe working conditions, and the right to organize and collectively bargain.\n",
            "User: Tell me something about Smart Grids.\n",
            "Bot: Smart grid technologies enable efficient and reliable distribution of electricity, optimize energy consumption, and integrate renewable energy sources.\n",
            "User: Which is the most successful band of all time?\n",
            "Bot: The beatles, consisting of john lennon, paul mccartney, george harrison, and ringo starr, are one of the most influential and commercially successful bands of all time.\n",
            "User: What are NGO's?\n",
            "Bot: Non-governmental organizations (ngos) are independent organizations that operate at an international level, often focusing on humanitarian, environmental, or human rights issues.\n",
            "User: Tell me about yourself.\n",
            "Bot: I am the Fact Bot, your friendly companion for interesting facts!\n",
            "User: How do you work?\n",
            "Bot: I utilize TF-IDF and cosine similarity algorithms to analyze your input and find the most relevant facts to share with you.\n",
            "User: Thank you\n",
            "Bot: You're welcome!\n"
          ]
        }
      ]
    }
  ]
}